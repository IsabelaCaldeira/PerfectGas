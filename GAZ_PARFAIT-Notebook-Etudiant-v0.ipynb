{
 "cells": [
  {
   "cell_type": "markdown",
   "id": "3cffbce4",
   "metadata": {},
   "source": [
    "# Partie I\n",
    "\n",
    "Un gaz parfait est une ensemble de $N$ particules ponctuelles sans interactions formant un gaz auquel on peut associer (à l'équilibre) des variables thermodynamiques (variables d'état) comme une pression (P), un volume (V), une température (T). On considèrera que chaque particule du gaz est de nature identique aux autres et a une masse **molaire** de $M = 40 \\, \\mathrm{g/mol}$ pour un gaz d'Argon, cependant on suppose que le gaz n'est pas soumis à la gravité et est au repos (sans vitesse globale).  \n",
    "\n",
    "Bien que les particules qui constituent le gaz sont de même nature, cela ne signifie pas qu'elles ont toutes la même vitesse ou occupent la même position dans l'espace. Chaque particule du gaz possède donc une position $(x, \\, y, \\, z) = \\overrightarrow{X}$ ainsi qu'une vitesse $(v_x, \\, v_y , \\, v_z) = \\overrightarrow{v}$ qui lui sont propres.\n",
    "\n",
    "Pour information, à l'équilibre thermodynamique avec l'enceinte qui contient le gaz parfait, considérée comme un thermostat (objet à température $T$ constante), les vitesses des particules sont réparties selon la distribution dite de Maxwell-Boltzmann : \n",
    "\n",
    "\\begin{equation}\n",
    "G(\\overrightarrow{v})=\\Big(\\dfrac{m}{2\\pi k_B T}\\Big)^{3/2}e^{\\dfrac{-m|\\overrightarrow{v}|^2}{2k_B T}}\n",
    "\\end{equation}\n",
    "\n",
    "\n",
    "\n",
    "Où $k_B = 1,380649*10^{-23}\\, J K^{-1}$ est la constante (exacte) de Boltzmann selon la Conférence Générale des Poids et Mesures depuis le 20 mai 2019."
   ]
  },
  {
   "cell_type": "markdown",
   "id": "aa87509f",
   "metadata": {},
   "source": [
    "### Prise en main des données\n",
    "\n",
    "Le fichier $\\mathtt{MB}\\_\\mathtt{N}\\_\\mathtt{T.txt}$ contient les vitesses $v_x, \\, v_y, \\, v_z$ d'un gaz parfait de $N \\in \\{10,100,10^3,10^4,10^5\\}$ particules à température $T$ en Kelvin. Si la mémoire de votre espace personnel n'est pas suffisant, ne pas télécharger les fichiers avec $N=10^5$ (au total $\\simeq 30$ Mo).\n",
    "\n",
    "1) Vérifier que $v_{th}=\\sqrt{\\dfrac{3k_BT}{m}}$ (où $m$ est la masse d'une particule de gaz) a bien la dimension d'une vitesse. Donner un ordre de grandeur de $v_{th}$ pour l'atmosphère usuelle (nous ne respirons pas de l'Argon...).\n"
   ]
  },
  {
   "cell_type": "code",
   "execution_count": 7,
   "id": "da3bc9ec",
   "metadata": {},
   "outputs": [],
   "source": [
    "#[3] = 1 \n",
    "#[Kb] = [E]/[T] = ML²T-² / K \n",
    "#[T] = K \n",
    "#[KbT] = Ml²T-²\n",
    "#[m] = M\n",
    "#On a donc: KbT/m = LT**-1\n",
    "#Cela prouve bien les dimension de [Vth] "
   ]
  },
  {
   "cell_type": "markdown",
   "id": "2cd5ba98",
   "metadata": {},
   "source": []
  },
  {
   "cell_type": "markdown",
   "id": "5ad0c33d",
   "metadata": {},
   "source": [
    "2) Importer les bibliothèques suivantes : numpy, matplotlib.pyplot (vous pouvez leur donner des alias pour faciliter leur appel plus tard dans votre code). On rappelle la syntaxe : $\\mathtt{import \\; library \\; as \\; alias}$\n",
    "\n",
    "Si vous voulez utiliser les fonctions mathématiques de base sans appeler NumPy vous pouvez écrire : $\\mathtt{from \\; math \\; import\\; *}$\n",
    " "
   ]
  },
  {
   "cell_type": "code",
   "execution_count": null,
   "id": "b0b35fdd",
   "metadata": {},
   "outputs": [],
   "source": [
    "import numpy as np\n",
    "import matplotlib as plt"
   ]
  },
  {
   "cell_type": "markdown",
   "id": "9daf01f8",
   "metadata": {},
   "source": [
    "3) \n",
    "a) Avec un éditeur de texte, afficher les données du fichier $\\mathtt{MB}\\_\\mathtt{100}\\_\\mathtt{273.txt}$ qui contient les vitesses des particules du gaz. Quelles sont les dimensions du tableau contenu dans le fichier? A quoi correspondent chacune des colonnes? Combien y a-t-il de lignes dans ce fichier? \n",
    "\n",
    "b) Créer un tableau $\\mathtt{numpy}$ à partir du fichier de données $\\mathtt{MB}\\_\\mathtt{100}\\_\\mathtt{273.txt}$. On pourra utiliser la fonction de NumPy $\\mathtt{loadtxt}$ avec l'option delimiter=',' pour les fichiers dont les données sont séparées par des virgules ($\\textit{comma-seperated values}$ ou $\\textit{csv}$)"
   ]
  },
  {
   "cell_type": "code",
   "execution_count": null,
   "id": "e38ad0f4",
   "metadata": {},
   "outputs": [],
   "source": [
    "#Les dimensions du tableau sont 10 lignes et 3 colonnes \n",
    "#\n",
    "#On a 10 lignes dans le fichier"
   ]
  },
  {
   "cell_type": "markdown",
   "id": "d1a0114f",
   "metadata": {},
   "source": [
    "4) Ecrire une fonction qui prend en entrée $N$, $T$ et qui renvoie un tableau avec les valeurs de $\\mathtt{MB}\\_\\mathtt{N}\\_\\mathtt{T.txt}$. On rappelle qu'un nom de fichier peut contenir des variables numériques grâce à la fonction str() et la concaténation des chaines de caractère. Par exemple, si x=42 la chaine de caractère 'Blabla_'+str(x) sera 'Blabla_42'. Tester votre fonction sur le fichier $\\mathtt{MB}\\_\\mathtt{100}\\_\\mathtt{273.txt}$."
   ]
  },
  {
   "cell_type": "code",
   "execution_count": null,
   "id": "1a64221c",
   "metadata": {},
   "outputs": [],
   "source": []
  },
  {
   "cell_type": "markdown",
   "id": "bd2bac75",
   "metadata": {},
   "source": [
    "5) Définir $v_{th}$ avec $T=273$ et renormaliser le tableau par $v_{th}$ pour travailler avec des quantités adimensionnées (créer une copie et diviser par $v_{th}$). Commenter l'ordre de grandeur des vitesses renormalisées."
   ]
  },
  {
   "cell_type": "code",
   "execution_count": null,
   "id": "53ae9321",
   "metadata": {},
   "outputs": [],
   "source": []
  },
  {
   "cell_type": "markdown",
   "id": "ca304b3f",
   "metadata": {},
   "source": [
    "6) Changer les dimensions de ce tableau pourqu'il contienne $3$ éléments de $N$ éléments chacun. On pourra créer un tableau numpy rempli de 0 avec la dimension adéquate puis le remplir des valeurs correctes repérées par deux indices dans le tableau initial $v$ : un indice i de la ligne qui donne le numéro de la particule considéré (entre 0 et $N-1$) et j de la colonne qui donne l'axe considéré (entre 0 et 2). On pourra aussi utiliser la fonction de NumPy $\\mathtt{transpose}$. Vérifier que les deux méthodes donnent le même résultat.\n"
   ]
  },
  {
   "cell_type": "code",
   "execution_count": null,
   "id": "e0b43e58",
   "metadata": {},
   "outputs": [],
   "source": []
  },
  {
   "cell_type": "markdown",
   "id": "a4cab639",
   "metadata": {},
   "source": [
    "7) \"Aplatir\" ce tableau pourqu'il devienne un tableau à une dimension de $3N$ éléments avec la fonction $\\mathtt{ndarray.flatten}$ de NumPy. "
   ]
  },
  {
   "cell_type": "code",
   "execution_count": null,
   "id": "f1ef4065",
   "metadata": {},
   "outputs": [],
   "source": []
  },
  {
   "cell_type": "markdown",
   "id": "36668086",
   "metadata": {},
   "source": [
    "8) Afficher un histogramme de la répartition des vitesses $v_x$ en choisissant correctement la plage de valeurs affichées (on pourra se servir du tableau créé à la question 6)"
   ]
  },
  {
   "cell_type": "code",
   "execution_count": null,
   "id": "616c8cf1",
   "metadata": {},
   "outputs": [],
   "source": []
  },
  {
   "cell_type": "markdown",
   "id": "d96a193d",
   "metadata": {},
   "source": [
    "\n",
    "9) a) Calculer la moyenne des vitesses (adimensionnées) pour $N=100$ et $T=273$ avec la méthode de votre choix (fonction moyenne, somme, boucle sur les éléments). Par isotropie, on pourra par exemple faire la moyenne du tableau ''aplati'' et corriger d'un facteur 3 pour prendre en compte le fait qu'on doit moyenner sur $N$ particules et non $3N$.\n",
    "\n",
    "b) En incluant votre calcul précédant dans une fonction simple prenant $N$ comme argument, calculer la moyenne des vitesses (adimensionnées) pour tous les fichiers avec $T=273$.  Commenter l'influence de $N$ sur cette grandeur. \n",
    "\n"
   ]
  },
  {
   "cell_type": "code",
   "execution_count": null,
   "id": "1268c857",
   "metadata": {},
   "outputs": [],
   "source": []
  },
  {
   "cell_type": "markdown",
   "id": "7d6a901f",
   "metadata": {},
   "source": [
    "10) Construire un tableau contenant les valeurs successives de $\\dfrac{1}{\\sqrt{N}}$ et tracer la moyenne  des vitesses en fonction de $\\dfrac{1}{\\sqrt{N}}$. Ajouter des barres d'erreurs sur la vitesse moyenne avec $\\delta v \\simeq \\dfrac{v_{th}}{\\sqrt{N}}$. Utiliser la fonction $\\mathtt{polyfit}$ de NumPy pour proposer un modèle et commenter. Pour afficher les barres d'erreurs sur un graphe, il suffit d'utiliser la fonction de $\\mathtt{matplotlib}$ nommée $\\mathtt{errorbar}$ qui prend en entrée les tableaux contenant respectivement les abscisses, les ordonnées et les erreurs selon les axes x ou y. Par exemple on pourra appeler : $\\mathtt{plt.errorbar(abscisses, ordonnees , yerr=err}\\_\\mathtt{ordonnees)}$"
   ]
  },
  {
   "cell_type": "code",
   "execution_count": null,
   "id": "6fd80ad4",
   "metadata": {},
   "outputs": [],
   "source": []
  },
  {
   "cell_type": "markdown",
   "id": "0417204e",
   "metadata": {},
   "source": [
    "# Partie II\n",
    "\n",
    "Jusqu'ici, on a étudié les propriétés du gaz parfait à partir d'une \"photographie\" de la distribution des vitesses à un instant $t$.\n",
    "On souhaite à présent simuler une dynamique du système de manière simplifiée en supposant que toutes les vitesses sont des vecteurs de norme $v_{th}$ orientés selon $\\pm \\overrightarrow{u_z}, \\,\\overrightarrow{u_x}, \\, \\overrightarrow{u_y}$. Dans ce modèle les vitesses des $N$ particules sont réparties de manière uniforme selon ces 6 directions qui sont exclusives les unes des autres (le vecteur vitesse d'une particule est dirigée selon $+\\overrightarrow{u_z}$ **ou** $-\\overrightarrow{u_z}$ **ou** $+\\overrightarrow{u_y}$...).\n",
    "\n",
    "1) a) Créer un tableau contenant la position d'une particule du gaz. Cette position comportant 3 coordonnées sera choisie aléatoirement au sein d'une boîte cubique de côté 1m.  On pourra utiliser notamment la fonction $\\mathtt{random}()$ de la librairie du même nom qui renvoie un nombre aléatoire de $[0;1[$\n",
    "\n",
    "b) Ecrire une fonction qui crée un tableau contenant les positions des $N$ particules constituant le gaz. \n"
   ]
  },
  {
   "cell_type": "code",
   "execution_count": 1,
   "id": "7ad07081",
   "metadata": {},
   "outputs": [],
   "source": [
    "import random as rd\n"
   ]
  },
  {
   "cell_type": "markdown",
   "id": "79299f5e",
   "metadata": {},
   "source": [
    "2) Adapter votre fonction précédente pour qu'elle écrive un fichier contenant les positions des particules. Les différentes valeurs selon les différents axes seront séparées par une virgule pour respecter le format $\\textit{csv}$. De plus le fichier devra contenir une ligne par particule, il faudra donc sauter de ligne une fois les trois coordonnées d'une particule écrites. Pour ce faire on utilisera la chaine de caractère \"\\n\" qui correspond à un saut de ligne. Attention, enregistrer directement le tableau entier n'est pas correct car les délimiteurs du tableau ''['' et '']'' seront également écrits dans le fichier texte.\n"
   ]
  },
  {
   "cell_type": "code",
   "execution_count": null,
   "id": "da064a58",
   "metadata": {},
   "outputs": [],
   "source": []
  },
  {
   "cell_type": "markdown",
   "id": "b5e68a20",
   "metadata": {},
   "source": [
    "\n",
    "3) A partir de la question précédente, créer une fonction qui écrit un fichier de vitesses correspondant au modèle hexadirectionnel et renvoie le tableau correspondant. On pourra tirer profit de la fonction $\\mathtt{choice}$ du module $\\mathtt{random}$ qui permet de choisir aléatoirement une des valeurs de la séquence donnée en argument.\n",
    "Par exemple, $\\mathtt{choice}((-1,1))$ renvoie aléatoirement $-1$ ou $1$. Il faudra ainsi tirer aléatoirement la direction de la vitesse (indice entre 0 et 2) ainsi que le sens de la vitesse ($\\pm 1$)."
   ]
  },
  {
   "cell_type": "code",
   "execution_count": null,
   "id": "e76a6ada",
   "metadata": {},
   "outputs": [],
   "source": []
  },
  {
   "cell_type": "markdown",
   "id": "129fe30e",
   "metadata": {},
   "source": [
    "## Prévoir au moins une séance pour la partie III, si vous n'avez pas fini les dernières questions de cette partie avant la fin de la deuxième séance passez directement à la suite quitte à y revenir plus tard.\n",
    "\n",
    "4) Afficher une représentation des positions de quelques particules parmi les $N$ (afficher les toutes si $N<30$). Pour les $N$ plus grands (supérieurs à 30), vous sélectionnerez les particules d'indice multiple de 3 inférieur à 100 et en extrairerez les coordonnées dans un nouveau tableau dont vous déterminerez la taille. Vous ferez bonne usage des conditions $\\mathtt{if}$ pour distinguer les cas des grands $N$ et petits $N$ ainsi que pour sélectionner les indices.\n",
    "\n",
    "L'affichage 3D se fait avec la fonction $\\mathtt{Axes3D}$ de la librairie $\\mathtt{mpl}\\_\\mathtt{toolkits.mplot3d}$. Les principales lignes de codes sont pré-écrites, il ne reste qu'à remplir le nuage de points ($\\mathtt{scatter}$) avec les tableaux des coordonées selons les différents axes (attention l'ordre compte)."
   ]
  },
  {
   "cell_type": "code",
   "execution_count": null,
   "id": "ee36a397",
   "metadata": {},
   "outputs": [],
   "source": []
  },
  {
   "cell_type": "code",
   "execution_count": 2,
   "id": "43337c3c",
   "metadata": {},
   "outputs": [
    {
     "ename": "SyntaxError",
     "evalue": "invalid syntax (<ipython-input-2-656fd9df8e7f>, line 6)",
     "output_type": "error",
     "traceback": [
      "\u001b[1;36m  File \u001b[1;32m\"<ipython-input-2-656fd9df8e7f>\"\u001b[1;36m, line \u001b[1;32m6\u001b[0m\n\u001b[1;33m    ax.scatter(,,,c='r')\u001b[0m\n\u001b[1;37m               ^\u001b[0m\n\u001b[1;31mSyntaxError\u001b[0m\u001b[1;31m:\u001b[0m invalid syntax\n"
     ]
    }
   ],
   "source": [
    "from mpl_toolkits.mplot3d import Axes3D\n",
    "\n",
    "fig = plt.figure()\n",
    "ax = Axes3D(fig)\n",
    "\n",
    "ax.scatter(,,,c='r')\n",
    "ax.set_xlabel('X')\n",
    "ax.set_ylabel('Y')\n",
    "ax.set_zlabel('Z')\n",
    "plt.show()"
   ]
  },
  {
   "cell_type": "markdown",
   "id": "fb799467",
   "metadata": {},
   "source": [
    "5) Faire évoluer les positions et les vitesses à un instant $t+\\delta t$ avec comme condition que si une particule touche une paroi, elle est réfléchie ce qui transforme $\\overrightarrow{v}$ en $-\\overrightarrow{v}$. On choisira $\\delta t = 10^{-3} \\, \\mathrm{s}$. Afficher les positions avant et après évolution."
   ]
  },
  {
   "cell_type": "code",
   "execution_count": null,
   "id": "8fc14795",
   "metadata": {},
   "outputs": [],
   "source": []
  },
  {
   "cell_type": "markdown",
   "id": "7792e6b5",
   "metadata": {},
   "source": [
    "### Question optionnelle\n",
    "\n",
    "Ecrire une fonction $\\texttt{GP(N,T)}$ qui génère un fichier texte contenant les vitesses des particules du gaz parfait selon la distribution de Maxwell-Blotzmann et qui renvoie le tableau correspondant. $m$ et $k_B$ seront des paramètres à définir au sein de la fonction. On pourra notamment utiliser la fonction $\\mathtt{gauss}$ de la librairie $\\mathtt{random}$ (à importer)."
   ]
  },
  {
   "cell_type": "code",
   "execution_count": null,
   "id": "f48346b5",
   "metadata": {},
   "outputs": [],
   "source": []
  },
  {
   "cell_type": "markdown",
   "id": "7635bfa9",
   "metadata": {},
   "source": [
    "# Partie III\n",
    "\n",
    "On peut maintenant s'intéresser aux caractéristiques thermodynamiques du système. En effet, outre les quelques variables thermodynamiques qu'on peut associer à un système, à l'équilibre on peut également définir des fonctions d'état qui sont fonction des variables thermodynamiques et qui ne dépendent que de l'état actuel du système. En particulier la différence d'une fonction prise entre deux états ne dépend pas de la transformation (réelle ou hypothétique) parcourue pour passer d'un état à l'autre.\n",
    "\n",
    "L'énergie interne $U$ est une telle fonction d'état dite extensive, c'est à dire proportionnelle au nombre de particule constituant le gaz parfait.\n",
    "\n",
    "Dans le cas du gaz parfait, on peut relier l'énergie interne à la distribution des vitesses et à la température par les relations :\n",
    "\n",
    "\\begin{equation}\n",
    "U = \\dfrac{1}{2}mN \\langle v^2\\rangle = \\dfrac{3}{2}N k_B T\n",
    "\\end{equation}\n",
    "\n",
    "Où $\\langle \\; \\rangle$ signifie moyenne sur les particules du gaz.\n",
    "\n",
    "Ces relations rendent explicitement compte de l'extensivité de l'énergie interne et permettent de faire le lien entre l'agitation thermique microscopique des particules (la moyenne de $v^2$) et la température via le théorème d'équipartition de l'énergie vu plus tard dans vos études.\n",
    "\n",
    "\n",
    "1) Pour un fichier de votre choix, calculer la moyenne de $v^2$, calculer également la variance de $v$ et commenter. On fera attention à la correction par un facteur 3 déjà évoquée plus haut."
   ]
  },
  {
   "cell_type": "code",
   "execution_count": null,
   "id": "865002bb",
   "metadata": {},
   "outputs": [],
   "source": []
  },
  {
   "cell_type": "markdown",
   "id": "88454ec3",
   "metadata": {},
   "source": [
    "2) En adaptant votre code de la question I.9)b), évaluer l'influence de $N$ sur $\\langle v^2\\rangle$ (à $T$ fixée). Commenter. Qu'en est-il de l'influence de la température (à $N$ fixé)? Vous prendrez garde à la normalisation qui peut jouer un rôle ici (faut-il ou non normaliser par $v_{th}, \\, v_{th}^2$, ...?)."
   ]
  },
  {
   "cell_type": "code",
   "execution_count": null,
   "id": "6c8b5914",
   "metadata": {},
   "outputs": [],
   "source": []
  },
  {
   "cell_type": "markdown",
   "id": "1fe6d2e2",
   "metadata": {},
   "source": [
    "3) Créer un tableau qui regroupe les variances des vitesses pour chaque fichier. Ce sera donc un tableau à deux indices, chacun correspondant aux valeurs possibles pour $(N,T)$."
   ]
  },
  {
   "cell_type": "code",
   "execution_count": null,
   "id": "6cc8dd2f",
   "metadata": {},
   "outputs": [],
   "source": []
  },
  {
   "cell_type": "markdown",
   "id": "c689042f",
   "metadata": {},
   "source": [
    "4) Adapter le code précédent pour qu'il renvoie une liste (tableau précédent \"aplati\") qui correspond aux valeurs de l'énergie interne $U$. On prendra soin de noter les différentes valeurs de $N*T$ dans une liste (ou tableau numpy de dimension 1) lors de la contruction du tableau."
   ]
  },
  {
   "cell_type": "code",
   "execution_count": null,
   "id": "9f418090",
   "metadata": {},
   "outputs": [],
   "source": []
  },
  {
   "cell_type": "markdown",
   "id": "51268190",
   "metadata": {},
   "source": [
    "5) Afficher $U$ en fonction de $N*T$ et retrouver la valeur de la capacité calorifique molaire à volume constant. On rappelle que $\\dfrac{\\partial U}{\\partial T}\\Bigr\\vert_{N,\\,V}=nC_{V,\\,m}=C_V$. La capacité calorifique molaire à volume constant correspond donc au coefficient directeur du graphe à tracer multiplié par le nombre d'Avogadro $\\mathcal{N}_A$. Pour réaliser l'ajustement on pourra utiliser la fonction de NumPy $\\mathtt{polyfit}$"
   ]
  },
  {
   "cell_type": "code",
   "execution_count": null,
   "id": "45b6cfed",
   "metadata": {},
   "outputs": [],
   "source": []
  }
 ],
 "metadata": {
  "kernelspec": {
   "display_name": "Python 3",
   "language": "python",
   "name": "python3"
  },
  "language_info": {
   "codemirror_mode": {
    "name": "ipython",
    "version": 3
   },
   "file_extension": ".py",
   "mimetype": "text/x-python",
   "name": "python",
   "nbconvert_exporter": "python",
   "pygments_lexer": "ipython3",
   "version": "3.13.3"
  }
 },
 "nbformat": 4,
 "nbformat_minor": 5
}
